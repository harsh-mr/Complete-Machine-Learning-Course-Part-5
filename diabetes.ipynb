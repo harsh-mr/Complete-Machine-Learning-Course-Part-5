{
  "cells": [
    {
      "cell_type": "markdown",
      "metadata": {
        "id": "view-in-github",
        "colab_type": "text"
      },
      "source": [
        "<a href=\"https://colab.research.google.com/github/harsh-mr/Complete-Machine-Learning-Course-Part-5/blob/main/diabetes.ipynb\" target=\"_parent\"><img src=\"https://colab.research.google.com/assets/colab-badge.svg\" alt=\"Open In Colab\"/></a>"
      ]
    },
    {
      "cell_type": "code",
      "execution_count": 6,
      "metadata": {
        "id": "vhtBR6Ok7yJS"
      },
      "outputs": [],
      "source": [
        "import numpy as np\n",
        "import pandas as pd\n",
        "import matplotlib.pyplot as plt\n",
        "import seaborn as sns\n",
        "from sklearn.metrics import accuracy_score,confusion_matrix\n",
        "%matplotlib inline"
      ]
    },
    {
      "cell_type": "code",
      "execution_count": 7,
      "metadata": {
        "colab": {
          "base_uri": "https://localhost:8080/",
          "height": 305
        },
        "id": "IPigAt2TbX4O",
        "outputId": "95377e25-1070-4b00-fb6d-79a7c28370d8"
      },
      "outputs": [
        {
          "output_type": "execute_result",
          "data": {
            "text/plain": [
              "   Age Gender Polyuria Polydipsia sudden weight loss weakness Polyphagia  \\\n",
              "0   40   Male       No        Yes                 No      Yes         No   \n",
              "1   58   Male       No         No                 No      Yes         No   \n",
              "2   41   Male      Yes         No                 No      Yes        Yes   \n",
              "3   45   Male       No         No                Yes      Yes        Yes   \n",
              "4   60   Male      Yes        Yes                Yes      Yes        Yes   \n",
              "\n",
              "  Genital thrush visual blurring Itching Irritability delayed healing  \\\n",
              "0             No              No     Yes           No             Yes   \n",
              "1             No             Yes      No           No              No   \n",
              "2             No              No     Yes           No             Yes   \n",
              "3            Yes              No     Yes           No             Yes   \n",
              "4             No             Yes     Yes          Yes             Yes   \n",
              "\n",
              "  partial paresis muscle stiffness Alopecia Obesity     class  \n",
              "0              No              Yes      Yes     Yes  Positive  \n",
              "1             Yes               No      Yes      No  Positive  \n",
              "2              No              Yes      Yes      No  Positive  \n",
              "3              No               No       No      No  Positive  \n",
              "4             Yes              Yes      Yes     Yes  Positive  "
            ],
            "text/html": [
              "\n",
              "  <div id=\"df-8a06514e-b3ae-4b57-b075-20b85a18056d\">\n",
              "    <div class=\"colab-df-container\">\n",
              "      <div>\n",
              "<style scoped>\n",
              "    .dataframe tbody tr th:only-of-type {\n",
              "        vertical-align: middle;\n",
              "    }\n",
              "\n",
              "    .dataframe tbody tr th {\n",
              "        vertical-align: top;\n",
              "    }\n",
              "\n",
              "    .dataframe thead th {\n",
              "        text-align: right;\n",
              "    }\n",
              "</style>\n",
              "<table border=\"1\" class=\"dataframe\">\n",
              "  <thead>\n",
              "    <tr style=\"text-align: right;\">\n",
              "      <th></th>\n",
              "      <th>Age</th>\n",
              "      <th>Gender</th>\n",
              "      <th>Polyuria</th>\n",
              "      <th>Polydipsia</th>\n",
              "      <th>sudden weight loss</th>\n",
              "      <th>weakness</th>\n",
              "      <th>Polyphagia</th>\n",
              "      <th>Genital thrush</th>\n",
              "      <th>visual blurring</th>\n",
              "      <th>Itching</th>\n",
              "      <th>Irritability</th>\n",
              "      <th>delayed healing</th>\n",
              "      <th>partial paresis</th>\n",
              "      <th>muscle stiffness</th>\n",
              "      <th>Alopecia</th>\n",
              "      <th>Obesity</th>\n",
              "      <th>class</th>\n",
              "    </tr>\n",
              "  </thead>\n",
              "  <tbody>\n",
              "    <tr>\n",
              "      <th>0</th>\n",
              "      <td>40</td>\n",
              "      <td>Male</td>\n",
              "      <td>No</td>\n",
              "      <td>Yes</td>\n",
              "      <td>No</td>\n",
              "      <td>Yes</td>\n",
              "      <td>No</td>\n",
              "      <td>No</td>\n",
              "      <td>No</td>\n",
              "      <td>Yes</td>\n",
              "      <td>No</td>\n",
              "      <td>Yes</td>\n",
              "      <td>No</td>\n",
              "      <td>Yes</td>\n",
              "      <td>Yes</td>\n",
              "      <td>Yes</td>\n",
              "      <td>Positive</td>\n",
              "    </tr>\n",
              "    <tr>\n",
              "      <th>1</th>\n",
              "      <td>58</td>\n",
              "      <td>Male</td>\n",
              "      <td>No</td>\n",
              "      <td>No</td>\n",
              "      <td>No</td>\n",
              "      <td>Yes</td>\n",
              "      <td>No</td>\n",
              "      <td>No</td>\n",
              "      <td>Yes</td>\n",
              "      <td>No</td>\n",
              "      <td>No</td>\n",
              "      <td>No</td>\n",
              "      <td>Yes</td>\n",
              "      <td>No</td>\n",
              "      <td>Yes</td>\n",
              "      <td>No</td>\n",
              "      <td>Positive</td>\n",
              "    </tr>\n",
              "    <tr>\n",
              "      <th>2</th>\n",
              "      <td>41</td>\n",
              "      <td>Male</td>\n",
              "      <td>Yes</td>\n",
              "      <td>No</td>\n",
              "      <td>No</td>\n",
              "      <td>Yes</td>\n",
              "      <td>Yes</td>\n",
              "      <td>No</td>\n",
              "      <td>No</td>\n",
              "      <td>Yes</td>\n",
              "      <td>No</td>\n",
              "      <td>Yes</td>\n",
              "      <td>No</td>\n",
              "      <td>Yes</td>\n",
              "      <td>Yes</td>\n",
              "      <td>No</td>\n",
              "      <td>Positive</td>\n",
              "    </tr>\n",
              "    <tr>\n",
              "      <th>3</th>\n",
              "      <td>45</td>\n",
              "      <td>Male</td>\n",
              "      <td>No</td>\n",
              "      <td>No</td>\n",
              "      <td>Yes</td>\n",
              "      <td>Yes</td>\n",
              "      <td>Yes</td>\n",
              "      <td>Yes</td>\n",
              "      <td>No</td>\n",
              "      <td>Yes</td>\n",
              "      <td>No</td>\n",
              "      <td>Yes</td>\n",
              "      <td>No</td>\n",
              "      <td>No</td>\n",
              "      <td>No</td>\n",
              "      <td>No</td>\n",
              "      <td>Positive</td>\n",
              "    </tr>\n",
              "    <tr>\n",
              "      <th>4</th>\n",
              "      <td>60</td>\n",
              "      <td>Male</td>\n",
              "      <td>Yes</td>\n",
              "      <td>Yes</td>\n",
              "      <td>Yes</td>\n",
              "      <td>Yes</td>\n",
              "      <td>Yes</td>\n",
              "      <td>No</td>\n",
              "      <td>Yes</td>\n",
              "      <td>Yes</td>\n",
              "      <td>Yes</td>\n",
              "      <td>Yes</td>\n",
              "      <td>Yes</td>\n",
              "      <td>Yes</td>\n",
              "      <td>Yes</td>\n",
              "      <td>Yes</td>\n",
              "      <td>Positive</td>\n",
              "    </tr>\n",
              "  </tbody>\n",
              "</table>\n",
              "</div>\n",
              "      <button class=\"colab-df-convert\" onclick=\"convertToInteractive('df-8a06514e-b3ae-4b57-b075-20b85a18056d')\"\n",
              "              title=\"Convert this dataframe to an interactive table.\"\n",
              "              style=\"display:none;\">\n",
              "        \n",
              "  <svg xmlns=\"http://www.w3.org/2000/svg\" height=\"24px\"viewBox=\"0 0 24 24\"\n",
              "       width=\"24px\">\n",
              "    <path d=\"M0 0h24v24H0V0z\" fill=\"none\"/>\n",
              "    <path d=\"M18.56 5.44l.94 2.06.94-2.06 2.06-.94-2.06-.94-.94-2.06-.94 2.06-2.06.94zm-11 1L8.5 8.5l.94-2.06 2.06-.94-2.06-.94L8.5 2.5l-.94 2.06-2.06.94zm10 10l.94 2.06.94-2.06 2.06-.94-2.06-.94-.94-2.06-.94 2.06-2.06.94z\"/><path d=\"M17.41 7.96l-1.37-1.37c-.4-.4-.92-.59-1.43-.59-.52 0-1.04.2-1.43.59L10.3 9.45l-7.72 7.72c-.78.78-.78 2.05 0 2.83L4 21.41c.39.39.9.59 1.41.59.51 0 1.02-.2 1.41-.59l7.78-7.78 2.81-2.81c.8-.78.8-2.07 0-2.86zM5.41 20L4 18.59l7.72-7.72 1.47 1.35L5.41 20z\"/>\n",
              "  </svg>\n",
              "      </button>\n",
              "      \n",
              "  <style>\n",
              "    .colab-df-container {\n",
              "      display:flex;\n",
              "      flex-wrap:wrap;\n",
              "      gap: 12px;\n",
              "    }\n",
              "\n",
              "    .colab-df-convert {\n",
              "      background-color: #E8F0FE;\n",
              "      border: none;\n",
              "      border-radius: 50%;\n",
              "      cursor: pointer;\n",
              "      display: none;\n",
              "      fill: #1967D2;\n",
              "      height: 32px;\n",
              "      padding: 0 0 0 0;\n",
              "      width: 32px;\n",
              "    }\n",
              "\n",
              "    .colab-df-convert:hover {\n",
              "      background-color: #E2EBFA;\n",
              "      box-shadow: 0px 1px 2px rgba(60, 64, 67, 0.3), 0px 1px 3px 1px rgba(60, 64, 67, 0.15);\n",
              "      fill: #174EA6;\n",
              "    }\n",
              "\n",
              "    [theme=dark] .colab-df-convert {\n",
              "      background-color: #3B4455;\n",
              "      fill: #D2E3FC;\n",
              "    }\n",
              "\n",
              "    [theme=dark] .colab-df-convert:hover {\n",
              "      background-color: #434B5C;\n",
              "      box-shadow: 0px 1px 3px 1px rgba(0, 0, 0, 0.15);\n",
              "      filter: drop-shadow(0px 1px 2px rgba(0, 0, 0, 0.3));\n",
              "      fill: #FFFFFF;\n",
              "    }\n",
              "  </style>\n",
              "\n",
              "      <script>\n",
              "        const buttonEl =\n",
              "          document.querySelector('#df-8a06514e-b3ae-4b57-b075-20b85a18056d button.colab-df-convert');\n",
              "        buttonEl.style.display =\n",
              "          google.colab.kernel.accessAllowed ? 'block' : 'none';\n",
              "\n",
              "        async function convertToInteractive(key) {\n",
              "          const element = document.querySelector('#df-8a06514e-b3ae-4b57-b075-20b85a18056d');\n",
              "          const dataTable =\n",
              "            await google.colab.kernel.invokeFunction('convertToInteractive',\n",
              "                                                     [key], {});\n",
              "          if (!dataTable) return;\n",
              "\n",
              "          const docLinkHtml = 'Like what you see? Visit the ' +\n",
              "            '<a target=\"_blank\" href=https://colab.research.google.com/notebooks/data_table.ipynb>data table notebook</a>'\n",
              "            + ' to learn more about interactive tables.';\n",
              "          element.innerHTML = '';\n",
              "          dataTable['output_type'] = 'display_data';\n",
              "          await google.colab.output.renderOutput(dataTable, element);\n",
              "          const docLink = document.createElement('div');\n",
              "          docLink.innerHTML = docLinkHtml;\n",
              "          element.appendChild(docLink);\n",
              "        }\n",
              "      </script>\n",
              "    </div>\n",
              "  </div>\n",
              "  "
            ]
          },
          "metadata": {},
          "execution_count": 7
        }
      ],
      "source": [
        "# from google.colab import files\n",
        "# uploaded = files.upload()\n",
        "# import io\n",
        "# dataset = pd.read_csv(io.BytesIO(uploaded['data.csv']))\n",
        "dataset = pd.read_csv('/content/diabetes_data_upload.csv') \n",
        "dataset.head()"
      ]
    },
    {
      "cell_type": "code",
      "execution_count": 8,
      "metadata": {
        "colab": {
          "base_uri": "https://localhost:8080/"
        },
        "id": "Zt6UphWWcOWE",
        "outputId": "7d3f92ef-31a4-46b0-fdf1-0ee48865825c"
      },
      "outputs": [
        {
          "output_type": "execute_result",
          "data": {
            "text/plain": [
              "Positive    320\n",
              "Negative    200\n",
              "Name: class, dtype: int64"
            ]
          },
          "metadata": {},
          "execution_count": 8
        }
      ],
      "source": [
        "dataset['class'].value_counts()"
      ]
    },
    {
      "cell_type": "code",
      "execution_count": 9,
      "metadata": {
        "id": "31nfhe0OcZpk"
      },
      "outputs": [],
      "source": [
        "dataset['Gender'] = dataset['Gender'].map({'Male':1,'Female':0})\n",
        "dataset['class'] = dataset['class'].map({'Positive':1,'Negative':0})\n",
        "dataset['Polyuria'] = dataset['Polyuria'].map({'Yes':1,'No':0})\n",
        "dataset['Polydipsia'] = dataset['Polydipsia'].map({'Yes':1,'No':0})\n",
        "dataset['sudden weight loss'] = dataset['sudden weight loss'].map({'Yes':1,'No':0})\n",
        "dataset['weakness'] = dataset['weakness'].map({'Yes':1,'No':0})\n",
        "dataset['Polyphagia'] = dataset['Polyphagia'].map({'Yes':1,'No':0})\n",
        "dataset['Genital thrush'] = dataset['Genital thrush'].map({'Yes':1,'No':0})\n",
        "dataset['visual blurring'] = dataset['visual blurring'].map({'Yes':1,'No':0})\n",
        "dataset['Itching'] = dataset['Itching'].map({'Yes':1,'No':0})\n",
        "dataset['Irritability'] = dataset['Irritability'].map({'Yes':1,'No':0})\n",
        "dataset['delayed healing'] = dataset['delayed healing'].map({'Yes':1,'No':0})\n",
        "dataset['partial paresis'] = dataset['partial paresis'].map({'Yes':1,'No':0})\n",
        "dataset['muscle stiffness'] = dataset['muscle stiffness'].map({'Yes':1,'No':0})\n",
        "dataset['Alopecia'] = dataset['Alopecia'].map({'Yes':1,'No':0})\n",
        "dataset['Obesity'] = dataset['Obesity'].map({'Yes':1,'No':0})"
      ]
    },
    {
      "cell_type": "code",
      "source": [
        "X = dataset[['Polydipsia','sudden weight loss','partial paresis','Irritability','Polyphagia','Age','visual blurring']]\n",
        "Y = dataset['class']"
      ],
      "metadata": {
        "id": "FoNjEdXU7t8P"
      },
      "execution_count": 12,
      "outputs": []
    },
    {
      "cell_type": "code",
      "source": [
        "from sklearn.model_selection import train_test_split\n",
        "X_train,X_test,Y_train,Y_test = train_test_split(X,Y,test_size = 0.2,random_state=0)"
      ],
      "metadata": {
        "id": "ZLisQDTg8DBT"
      },
      "execution_count": 13,
      "outputs": []
    },
    {
      "cell_type": "code",
      "source": [
        "from sklearn.preprocessing import StandardScaler\n",
        "ss = StandardScaler()\n",
        "X_train = ss.fit_transform(X_train)\n",
        "X_test = ss.transform(X_test)"
      ],
      "metadata": {
        "id": "Mgfq3vbM8FWy"
      },
      "execution_count": 15,
      "outputs": []
    },
    {
      "cell_type": "code",
      "source": [
        "# importing tensorflow and Keras\n",
        "import tensorflow as tf \n",
        "tf.random.set_seed(3)\n",
        "from tensorflow import keras"
      ],
      "metadata": {
        "id": "vTrN0b3P8S_-"
      },
      "execution_count": 16,
      "outputs": []
    },
    {
      "cell_type": "code",
      "source": [
        "model = keras.Sequential([\n",
        "                          # keras.layers.Flatten(input_shape=(30,)),\n",
        "                          keras.layers.Dense(40, activation='relu'),\n",
        "                          keras.layers.Dense(20, activation='relu'),\n",
        "                          keras.layers.Dense(1 ,activation='sigmoid'),\n",
        "])"
      ],
      "metadata": {
        "id": "JDmJFktk8TnP"
      },
      "execution_count": 17,
      "outputs": []
    },
    {
      "cell_type": "code",
      "source": [
        "model.compile(optimizer='adam',\n",
        "              loss='binary_crossentropy',\n",
        "              metrics=['accuracy'])"
      ],
      "metadata": {
        "id": "933qFszl8V-B"
      },
      "execution_count": 18,
      "outputs": []
    },
    {
      "cell_type": "code",
      "source": [
        "history = model.fit(X_train, Y_train, validation_split=0.1, epochs=20)"
      ],
      "metadata": {
        "colab": {
          "base_uri": "https://localhost:8080/"
        },
        "id": "KF9le6NS8Ygr",
        "outputId": "16099df6-6cb8-43cc-e01a-e07e9b6ee988"
      },
      "execution_count": 19,
      "outputs": [
        {
          "output_type": "stream",
          "name": "stdout",
          "text": [
            "Epoch 1/20\n",
            "12/12 [==============================] - 1s 21ms/step - loss: 0.6323 - accuracy: 0.7086 - val_loss: 0.6021 - val_accuracy: 0.6905\n",
            "Epoch 2/20\n",
            "12/12 [==============================] - 0s 4ms/step - loss: 0.5614 - accuracy: 0.7834 - val_loss: 0.5414 - val_accuracy: 0.7619\n",
            "Epoch 3/20\n",
            "12/12 [==============================] - 0s 5ms/step - loss: 0.5028 - accuracy: 0.8262 - val_loss: 0.4966 - val_accuracy: 0.7619\n",
            "Epoch 4/20\n",
            "12/12 [==============================] - 0s 5ms/step - loss: 0.4552 - accuracy: 0.8369 - val_loss: 0.4620 - val_accuracy: 0.7619\n",
            "Epoch 5/20\n",
            "12/12 [==============================] - 0s 6ms/step - loss: 0.4184 - accuracy: 0.8449 - val_loss: 0.4380 - val_accuracy: 0.7857\n",
            "Epoch 6/20\n",
            "12/12 [==============================] - 0s 4ms/step - loss: 0.3903 - accuracy: 0.8556 - val_loss: 0.4170 - val_accuracy: 0.7857\n",
            "Epoch 7/20\n",
            "12/12 [==============================] - 0s 4ms/step - loss: 0.3670 - accuracy: 0.8583 - val_loss: 0.4028 - val_accuracy: 0.8095\n",
            "Epoch 8/20\n",
            "12/12 [==============================] - 0s 5ms/step - loss: 0.3500 - accuracy: 0.8770 - val_loss: 0.3935 - val_accuracy: 0.8095\n",
            "Epoch 9/20\n",
            "12/12 [==============================] - 0s 4ms/step - loss: 0.3371 - accuracy: 0.8824 - val_loss: 0.3830 - val_accuracy: 0.8095\n",
            "Epoch 10/20\n",
            "12/12 [==============================] - 0s 4ms/step - loss: 0.3266 - accuracy: 0.8824 - val_loss: 0.3738 - val_accuracy: 0.8095\n",
            "Epoch 11/20\n",
            "12/12 [==============================] - 0s 4ms/step - loss: 0.3183 - accuracy: 0.8824 - val_loss: 0.3663 - val_accuracy: 0.8095\n",
            "Epoch 12/20\n",
            "12/12 [==============================] - 0s 5ms/step - loss: 0.3109 - accuracy: 0.8850 - val_loss: 0.3617 - val_accuracy: 0.8571\n",
            "Epoch 13/20\n",
            "12/12 [==============================] - 0s 4ms/step - loss: 0.3043 - accuracy: 0.8877 - val_loss: 0.3564 - val_accuracy: 0.8571\n",
            "Epoch 14/20\n",
            "12/12 [==============================] - 0s 5ms/step - loss: 0.2988 - accuracy: 0.8904 - val_loss: 0.3492 - val_accuracy: 0.8571\n",
            "Epoch 15/20\n",
            "12/12 [==============================] - 0s 5ms/step - loss: 0.2942 - accuracy: 0.8984 - val_loss: 0.3457 - val_accuracy: 0.8571\n",
            "Epoch 16/20\n",
            "12/12 [==============================] - 0s 6ms/step - loss: 0.2892 - accuracy: 0.9064 - val_loss: 0.3440 - val_accuracy: 0.8571\n",
            "Epoch 17/20\n",
            "12/12 [==============================] - 0s 4ms/step - loss: 0.2849 - accuracy: 0.9064 - val_loss: 0.3421 - val_accuracy: 0.8571\n",
            "Epoch 18/20\n",
            "12/12 [==============================] - 0s 4ms/step - loss: 0.2809 - accuracy: 0.9064 - val_loss: 0.3394 - val_accuracy: 0.8571\n",
            "Epoch 19/20\n",
            "12/12 [==============================] - 0s 5ms/step - loss: 0.2778 - accuracy: 0.9064 - val_loss: 0.3383 - val_accuracy: 0.8571\n",
            "Epoch 20/20\n",
            "12/12 [==============================] - 0s 4ms/step - loss: 0.2739 - accuracy: 0.9064 - val_loss: 0.3390 - val_accuracy: 0.8571\n"
          ]
        }
      ]
    },
    {
      "cell_type": "code",
      "source": [
        "loss, accuracy = model.evaluate(X_test, Y_test)\n",
        "print(accuracy)"
      ],
      "metadata": {
        "colab": {
          "base_uri": "https://localhost:8080/"
        },
        "id": "LZluPSX28eVu",
        "outputId": "a549bfa7-d860-4c6b-c768-d04889ecff17"
      },
      "execution_count": 20,
      "outputs": [
        {
          "output_type": "stream",
          "name": "stdout",
          "text": [
            "4/4 [==============================] - 0s 5ms/step - loss: 0.2157 - accuracy: 0.9423\n",
            "0.942307710647583\n"
          ]
        }
      ]
    },
    {
      "cell_type": "code",
      "source": [
        "Y_pred = model.predict(X_test)\n",
        "print(Y_pred.shape)"
      ],
      "metadata": {
        "colab": {
          "base_uri": "https://localhost:8080/"
        },
        "id": "c5kDwEHa8k8n",
        "outputId": "107d4491-c075-4be7-ec26-d4de1d74152e"
      },
      "execution_count": 22,
      "outputs": [
        {
          "output_type": "stream",
          "name": "stdout",
          "text": [
            "4/4 [==============================] - 0s 4ms/step\n",
            "(104, 1)\n"
          ]
        }
      ]
    },
    {
      "cell_type": "code",
      "source": [],
      "metadata": {
        "id": "qfx-j8HL8pMK"
      },
      "execution_count": null,
      "outputs": []
    }
  ],
  "metadata": {
    "colab": {
      "provenance": [],
      "collapsed_sections": [],
      "include_colab_link": true
    },
    "kernelspec": {
      "display_name": "Python 3",
      "name": "python3"
    },
    "language_info": {
      "name": "python"
    }
  },
  "nbformat": 4,
  "nbformat_minor": 0
}