{
  "nbformat": 4,
  "nbformat_minor": 0,
  "metadata": {
    "colab": {
      "provenance": [],
      "authorship_tag": "ABX9TyP0/l8LLWURq0FdIvixUrkQ",
      "include_colab_link": true
    },
    "kernelspec": {
      "name": "python3",
      "display_name": "Python 3"
    },
    "language_info": {
      "name": "python"
    }
  },
  "cells": [
    {
      "cell_type": "markdown",
      "metadata": {
        "id": "view-in-github",
        "colab_type": "text"
      },
      "source": [
        "<a href=\"https://colab.research.google.com/github/harsh-mr/Complete-Machine-Learning-Course-Part-5/blob/main/heart.ipynb\" target=\"_parent\"><img src=\"https://colab.research.google.com/assets/colab-badge.svg\" alt=\"Open In Colab\"/></a>"
      ]
    },
    {
      "cell_type": "code",
      "execution_count": 2,
      "metadata": {
        "id": "ymf9TXBvxZLV"
      },
      "outputs": [],
      "source": [
        "import pandas as pd \n",
        "import numpy as np\n",
        "\n",
        "\n",
        "%matplotlib inline\n",
        "import seaborn as sns\n",
        "import matplotlib.pyplot as plt\n",
        "from sklearn.model_selection import train_test_split\n",
        "from sklearn.compose import make_column_transformer\n",
        "from sklearn.preprocessing import OneHotEncoder\n",
        "from sklearn.compose import make_column_transformer\n",
        "from sklearn.preprocessing import StandardScaler \n",
        "from sklearn import metrics"
      ]
    },
    {
      "cell_type": "code",
      "source": [
        "df = pd.read_csv('/content/heart_2020_cleaned.csv')\n",
        "df.head()"
      ],
      "metadata": {
        "colab": {
          "base_uri": "https://localhost:8080/",
          "height": 270
        },
        "id": "Bs8916yk1LgA",
        "outputId": "cafb9f4c-0589-4064-84da-c246765d7a65"
      },
      "execution_count": 6,
      "outputs": [
        {
          "output_type": "execute_result",
          "data": {
            "text/plain": [
              "  HeartDisease    BMI Smoking AlcoholDrinking Stroke  PhysicalHealth  \\\n",
              "0           No  16.60     Yes              No     No             3.0   \n",
              "1           No  20.34      No              No    Yes             0.0   \n",
              "2           No  26.58     Yes              No     No            20.0   \n",
              "3           No  24.21      No              No     No             0.0   \n",
              "4           No  23.71      No              No     No            28.0   \n",
              "\n",
              "   MentalHealth DiffWalking     Sex  AgeCategory   Race Diabetic  \\\n",
              "0          30.0          No  Female        55-59  White      Yes   \n",
              "1           0.0          No  Female  80 or older  White       No   \n",
              "2          30.0          No    Male        65-69  White      Yes   \n",
              "3           0.0          No  Female        75-79  White       No   \n",
              "4           0.0         Yes  Female        40-44  White       No   \n",
              "\n",
              "  PhysicalActivity  GenHealth  SleepTime Asthma KidneyDisease SkinCancer  \n",
              "0              Yes  Very good        5.0    Yes            No        Yes  \n",
              "1              Yes  Very good        7.0     No            No         No  \n",
              "2              Yes       Fair        8.0    Yes            No         No  \n",
              "3               No       Good        6.0     No            No        Yes  \n",
              "4              Yes  Very good        8.0     No            No         No  "
            ],
            "text/html": [
              "\n",
              "  <div id=\"df-f688ed26-9312-4012-b81c-d5b679465943\">\n",
              "    <div class=\"colab-df-container\">\n",
              "      <div>\n",
              "<style scoped>\n",
              "    .dataframe tbody tr th:only-of-type {\n",
              "        vertical-align: middle;\n",
              "    }\n",
              "\n",
              "    .dataframe tbody tr th {\n",
              "        vertical-align: top;\n",
              "    }\n",
              "\n",
              "    .dataframe thead th {\n",
              "        text-align: right;\n",
              "    }\n",
              "</style>\n",
              "<table border=\"1\" class=\"dataframe\">\n",
              "  <thead>\n",
              "    <tr style=\"text-align: right;\">\n",
              "      <th></th>\n",
              "      <th>HeartDisease</th>\n",
              "      <th>BMI</th>\n",
              "      <th>Smoking</th>\n",
              "      <th>AlcoholDrinking</th>\n",
              "      <th>Stroke</th>\n",
              "      <th>PhysicalHealth</th>\n",
              "      <th>MentalHealth</th>\n",
              "      <th>DiffWalking</th>\n",
              "      <th>Sex</th>\n",
              "      <th>AgeCategory</th>\n",
              "      <th>Race</th>\n",
              "      <th>Diabetic</th>\n",
              "      <th>PhysicalActivity</th>\n",
              "      <th>GenHealth</th>\n",
              "      <th>SleepTime</th>\n",
              "      <th>Asthma</th>\n",
              "      <th>KidneyDisease</th>\n",
              "      <th>SkinCancer</th>\n",
              "    </tr>\n",
              "  </thead>\n",
              "  <tbody>\n",
              "    <tr>\n",
              "      <th>0</th>\n",
              "      <td>No</td>\n",
              "      <td>16.60</td>\n",
              "      <td>Yes</td>\n",
              "      <td>No</td>\n",
              "      <td>No</td>\n",
              "      <td>3.0</td>\n",
              "      <td>30.0</td>\n",
              "      <td>No</td>\n",
              "      <td>Female</td>\n",
              "      <td>55-59</td>\n",
              "      <td>White</td>\n",
              "      <td>Yes</td>\n",
              "      <td>Yes</td>\n",
              "      <td>Very good</td>\n",
              "      <td>5.0</td>\n",
              "      <td>Yes</td>\n",
              "      <td>No</td>\n",
              "      <td>Yes</td>\n",
              "    </tr>\n",
              "    <tr>\n",
              "      <th>1</th>\n",
              "      <td>No</td>\n",
              "      <td>20.34</td>\n",
              "      <td>No</td>\n",
              "      <td>No</td>\n",
              "      <td>Yes</td>\n",
              "      <td>0.0</td>\n",
              "      <td>0.0</td>\n",
              "      <td>No</td>\n",
              "      <td>Female</td>\n",
              "      <td>80 or older</td>\n",
              "      <td>White</td>\n",
              "      <td>No</td>\n",
              "      <td>Yes</td>\n",
              "      <td>Very good</td>\n",
              "      <td>7.0</td>\n",
              "      <td>No</td>\n",
              "      <td>No</td>\n",
              "      <td>No</td>\n",
              "    </tr>\n",
              "    <tr>\n",
              "      <th>2</th>\n",
              "      <td>No</td>\n",
              "      <td>26.58</td>\n",
              "      <td>Yes</td>\n",
              "      <td>No</td>\n",
              "      <td>No</td>\n",
              "      <td>20.0</td>\n",
              "      <td>30.0</td>\n",
              "      <td>No</td>\n",
              "      <td>Male</td>\n",
              "      <td>65-69</td>\n",
              "      <td>White</td>\n",
              "      <td>Yes</td>\n",
              "      <td>Yes</td>\n",
              "      <td>Fair</td>\n",
              "      <td>8.0</td>\n",
              "      <td>Yes</td>\n",
              "      <td>No</td>\n",
              "      <td>No</td>\n",
              "    </tr>\n",
              "    <tr>\n",
              "      <th>3</th>\n",
              "      <td>No</td>\n",
              "      <td>24.21</td>\n",
              "      <td>No</td>\n",
              "      <td>No</td>\n",
              "      <td>No</td>\n",
              "      <td>0.0</td>\n",
              "      <td>0.0</td>\n",
              "      <td>No</td>\n",
              "      <td>Female</td>\n",
              "      <td>75-79</td>\n",
              "      <td>White</td>\n",
              "      <td>No</td>\n",
              "      <td>No</td>\n",
              "      <td>Good</td>\n",
              "      <td>6.0</td>\n",
              "      <td>No</td>\n",
              "      <td>No</td>\n",
              "      <td>Yes</td>\n",
              "    </tr>\n",
              "    <tr>\n",
              "      <th>4</th>\n",
              "      <td>No</td>\n",
              "      <td>23.71</td>\n",
              "      <td>No</td>\n",
              "      <td>No</td>\n",
              "      <td>No</td>\n",
              "      <td>28.0</td>\n",
              "      <td>0.0</td>\n",
              "      <td>Yes</td>\n",
              "      <td>Female</td>\n",
              "      <td>40-44</td>\n",
              "      <td>White</td>\n",
              "      <td>No</td>\n",
              "      <td>Yes</td>\n",
              "      <td>Very good</td>\n",
              "      <td>8.0</td>\n",
              "      <td>No</td>\n",
              "      <td>No</td>\n",
              "      <td>No</td>\n",
              "    </tr>\n",
              "  </tbody>\n",
              "</table>\n",
              "</div>\n",
              "      <button class=\"colab-df-convert\" onclick=\"convertToInteractive('df-f688ed26-9312-4012-b81c-d5b679465943')\"\n",
              "              title=\"Convert this dataframe to an interactive table.\"\n",
              "              style=\"display:none;\">\n",
              "        \n",
              "  <svg xmlns=\"http://www.w3.org/2000/svg\" height=\"24px\"viewBox=\"0 0 24 24\"\n",
              "       width=\"24px\">\n",
              "    <path d=\"M0 0h24v24H0V0z\" fill=\"none\"/>\n",
              "    <path d=\"M18.56 5.44l.94 2.06.94-2.06 2.06-.94-2.06-.94-.94-2.06-.94 2.06-2.06.94zm-11 1L8.5 8.5l.94-2.06 2.06-.94-2.06-.94L8.5 2.5l-.94 2.06-2.06.94zm10 10l.94 2.06.94-2.06 2.06-.94-2.06-.94-.94-2.06-.94 2.06-2.06.94z\"/><path d=\"M17.41 7.96l-1.37-1.37c-.4-.4-.92-.59-1.43-.59-.52 0-1.04.2-1.43.59L10.3 9.45l-7.72 7.72c-.78.78-.78 2.05 0 2.83L4 21.41c.39.39.9.59 1.41.59.51 0 1.02-.2 1.41-.59l7.78-7.78 2.81-2.81c.8-.78.8-2.07 0-2.86zM5.41 20L4 18.59l7.72-7.72 1.47 1.35L5.41 20z\"/>\n",
              "  </svg>\n",
              "      </button>\n",
              "      \n",
              "  <style>\n",
              "    .colab-df-container {\n",
              "      display:flex;\n",
              "      flex-wrap:wrap;\n",
              "      gap: 12px;\n",
              "    }\n",
              "\n",
              "    .colab-df-convert {\n",
              "      background-color: #E8F0FE;\n",
              "      border: none;\n",
              "      border-radius: 50%;\n",
              "      cursor: pointer;\n",
              "      display: none;\n",
              "      fill: #1967D2;\n",
              "      height: 32px;\n",
              "      padding: 0 0 0 0;\n",
              "      width: 32px;\n",
              "    }\n",
              "\n",
              "    .colab-df-convert:hover {\n",
              "      background-color: #E2EBFA;\n",
              "      box-shadow: 0px 1px 2px rgba(60, 64, 67, 0.3), 0px 1px 3px 1px rgba(60, 64, 67, 0.15);\n",
              "      fill: #174EA6;\n",
              "    }\n",
              "\n",
              "    [theme=dark] .colab-df-convert {\n",
              "      background-color: #3B4455;\n",
              "      fill: #D2E3FC;\n",
              "    }\n",
              "\n",
              "    [theme=dark] .colab-df-convert:hover {\n",
              "      background-color: #434B5C;\n",
              "      box-shadow: 0px 1px 3px 1px rgba(0, 0, 0, 0.15);\n",
              "      filter: drop-shadow(0px 1px 2px rgba(0, 0, 0, 0.3));\n",
              "      fill: #FFFFFF;\n",
              "    }\n",
              "  </style>\n",
              "\n",
              "      <script>\n",
              "        const buttonEl =\n",
              "          document.querySelector('#df-f688ed26-9312-4012-b81c-d5b679465943 button.colab-df-convert');\n",
              "        buttonEl.style.display =\n",
              "          google.colab.kernel.accessAllowed ? 'block' : 'none';\n",
              "\n",
              "        async function convertToInteractive(key) {\n",
              "          const element = document.querySelector('#df-f688ed26-9312-4012-b81c-d5b679465943');\n",
              "          const dataTable =\n",
              "            await google.colab.kernel.invokeFunction('convertToInteractive',\n",
              "                                                     [key], {});\n",
              "          if (!dataTable) return;\n",
              "\n",
              "          const docLinkHtml = 'Like what you see? Visit the ' +\n",
              "            '<a target=\"_blank\" href=https://colab.research.google.com/notebooks/data_table.ipynb>data table notebook</a>'\n",
              "            + ' to learn more about interactive tables.';\n",
              "          element.innerHTML = '';\n",
              "          dataTable['output_type'] = 'display_data';\n",
              "          await google.colab.output.renderOutput(dataTable, element);\n",
              "          const docLink = document.createElement('div');\n",
              "          docLink.innerHTML = docLinkHtml;\n",
              "          element.appendChild(docLink);\n",
              "        }\n",
              "      </script>\n",
              "    </div>\n",
              "  </div>\n",
              "  "
            ]
          },
          "metadata": {},
          "execution_count": 6
        }
      ]
    },
    {
      "cell_type": "code",
      "source": [
        "df.info()"
      ],
      "metadata": {
        "colab": {
          "base_uri": "https://localhost:8080/"
        },
        "id": "lJmsqb0Y2iVp",
        "outputId": "81912619-2a72-4cc0-a696-398012752910"
      },
      "execution_count": 7,
      "outputs": [
        {
          "output_type": "stream",
          "name": "stdout",
          "text": [
            "<class 'pandas.core.frame.DataFrame'>\n",
            "RangeIndex: 319795 entries, 0 to 319794\n",
            "Data columns (total 18 columns):\n",
            " #   Column            Non-Null Count   Dtype  \n",
            "---  ------            --------------   -----  \n",
            " 0   HeartDisease      319795 non-null  object \n",
            " 1   BMI               319795 non-null  float64\n",
            " 2   Smoking           319795 non-null  object \n",
            " 3   AlcoholDrinking   319795 non-null  object \n",
            " 4   Stroke            319795 non-null  object \n",
            " 5   PhysicalHealth    319795 non-null  float64\n",
            " 6   MentalHealth      319795 non-null  float64\n",
            " 7   DiffWalking       319795 non-null  object \n",
            " 8   Sex               319795 non-null  object \n",
            " 9   AgeCategory       319795 non-null  object \n",
            " 10  Race              319795 non-null  object \n",
            " 11  Diabetic          319795 non-null  object \n",
            " 12  PhysicalActivity  319795 non-null  object \n",
            " 13  GenHealth         319795 non-null  object \n",
            " 14  SleepTime         319795 non-null  float64\n",
            " 15  Asthma            319795 non-null  object \n",
            " 16  KidneyDisease     319795 non-null  object \n",
            " 17  SkinCancer        319795 non-null  object \n",
            "dtypes: float64(4), object(14)\n",
            "memory usage: 43.9+ MB\n"
          ]
        }
      ]
    },
    {
      "cell_type": "code",
      "source": [
        "df.nunique()"
      ],
      "metadata": {
        "colab": {
          "base_uri": "https://localhost:8080/"
        },
        "id": "ZUvrvp7w4KCv",
        "outputId": "ab8a832e-ec55-4cd1-8c50-1d24e9c8b469"
      },
      "execution_count": 8,
      "outputs": [
        {
          "output_type": "execute_result",
          "data": {
            "text/plain": [
              "HeartDisease           2\n",
              "BMI                 3604\n",
              "Smoking                2\n",
              "AlcoholDrinking        2\n",
              "Stroke                 2\n",
              "PhysicalHealth        31\n",
              "MentalHealth          31\n",
              "DiffWalking            2\n",
              "Sex                    2\n",
              "AgeCategory           13\n",
              "Race                   6\n",
              "Diabetic               4\n",
              "PhysicalActivity       2\n",
              "GenHealth              5\n",
              "SleepTime             24\n",
              "Asthma                 2\n",
              "KidneyDisease          2\n",
              "SkinCancer             2\n",
              "dtype: int64"
            ]
          },
          "metadata": {},
          "execution_count": 8
        }
      ]
    },
    {
      "cell_type": "code",
      "source": [
        "df =  df[df.columns].replace({'Yes':1, 'No':0, 'Male':1,'Female':0,'No, borderline diabetes':'0','Yes (during pregnancy)':'1' })\n",
        "df['Diabetic'] = df['Diabetic'].astype(int)"
      ],
      "metadata": {
        "id": "FGsbvPw34Pwr"
      },
      "execution_count": 9,
      "outputs": []
    },
    {
      "cell_type": "code",
      "source": [
        "#Select Features\n",
        "features = df.drop(columns =['HeartDisease'], axis = 1)\n",
        "\n",
        "#Select Target \n",
        "target = df['HeartDisease']\n",
        "\n",
        "# Set Training and Testing Data\n",
        "from sklearn.model_selection import train_test_split\n",
        "X_train, X_test, y_train, y_test = train_test_split(features, target, shuffle = True, test_size = .2, random_state = 44)\n",
        "\n",
        "\n",
        "print('Shape of training feature:', X_train.shape)\n",
        "print('Shape of testing feature:', X_test.shape)\n",
        "print('Shape of training label:', y_train.shape)\n",
        "print('Shape of training label:', y_test.shape)"
      ],
      "metadata": {
        "colab": {
          "base_uri": "https://localhost:8080/"
        },
        "id": "tXANxfXb4X5l",
        "outputId": "361827d2-d5ef-4112-85f8-620eb4aa08f0"
      },
      "execution_count": 10,
      "outputs": [
        {
          "output_type": "stream",
          "name": "stdout",
          "text": [
            "Shape of training feature: (255836, 17)\n",
            "Shape of testing feature: (63959, 17)\n",
            "Shape of training label: (255836,)\n",
            "Shape of training label: (63959,)\n"
          ]
        }
      ]
    },
    {
      "cell_type": "code",
      "source": [
        "transformer = make_column_transformer(\n",
        "    (OneHotEncoder(sparse=False), ['AgeCategory', 'Race', 'GenHealth']),\n",
        "    remainder='passthrough')\n",
        "\n",
        "# Encode training data \n",
        "transformed_train = transformer.fit_transform(X_train)\n",
        "transformed_train_data = pd.DataFrame(transformed_train, columns=transformer.get_feature_names())\n",
        "\n",
        "# Concat the two tables\n",
        "transformed_train_data.reset_index(drop=True, inplace=True)\n",
        "X_train.reset_index(drop=True, inplace=True)\n",
        "X_train = pd.concat([transformed_train_data, X_train], axis=1)\n",
        "\n",
        "# Remove old columns\n",
        "X_train.drop(['AgeCategory', 'Race', 'GenHealth'], axis = 1, inplace = True)\n",
        "\n",
        "\n",
        "\n",
        "# Encode test data \n",
        "transformed_test = transformer.fit_transform(X_test)\n",
        "transformed_test_data = pd.DataFrame(transformed_test, columns=transformer.get_feature_names())\n",
        "\n",
        "# Concat the two tables\n",
        "transformed_test_data.reset_index(drop=True, inplace=True)\n",
        "X_test.reset_index(drop=True, inplace=True)\n",
        "X_test = pd.concat([transformed_test_data, X_test], axis=1)\n",
        "\n",
        "\n",
        "# Remove old columns\n",
        "X_test.drop(['AgeCategory', 'Race', 'GenHealth'], axis = 1, inplace = True)"
      ],
      "metadata": {
        "colab": {
          "base_uri": "https://localhost:8080/"
        },
        "id": "Kp0wfGid69Rg",
        "outputId": "1d6dddd7-a43e-4b1f-8a8e-c47c7b2b8218"
      },
      "execution_count": 11,
      "outputs": [
        {
          "output_type": "stream",
          "name": "stderr",
          "text": [
            "/usr/local/lib/python3.7/dist-packages/sklearn/utils/deprecation.py:87: FutureWarning: Function get_feature_names is deprecated; get_feature_names is deprecated in 1.0 and will be removed in 1.2. Please use get_feature_names_out instead.\n",
            "  warnings.warn(msg, category=FutureWarning)\n",
            "/usr/local/lib/python3.7/dist-packages/sklearn/utils/deprecation.py:87: FutureWarning: Function get_feature_names is deprecated; get_feature_names is deprecated in 1.0 and will be removed in 1.2. Please use get_feature_names_out instead.\n",
            "  warnings.warn(msg, category=FutureWarning)\n"
          ]
        }
      ]
    },
    {
      "cell_type": "code",
      "source": [
        "scaler = StandardScaler()\n",
        "\n",
        "# Scale trainint data\n",
        "X_train = scaler.fit_transform(X_train)\n",
        "\n",
        "# Scale test data\n",
        "X_test = scaler.fit_transform(X_test)"
      ],
      "metadata": {
        "id": "8S2FQZIY7aqj"
      },
      "execution_count": 12,
      "outputs": []
    },
    {
      "cell_type": "code",
      "source": [
        "from sklearn.ensemble import RandomForestClassifier  \n",
        "classifier= RandomForestClassifier(n_estimators= 10, criterion=\"entropy\")  \n",
        "classifier.fit(X_train, y_train)"
      ],
      "metadata": {
        "colab": {
          "base_uri": "https://localhost:8080/"
        },
        "id": "X93R8QHr7fw5",
        "outputId": "49a488c3-ef66-4823-abc2-d58413f3794a"
      },
      "execution_count": 14,
      "outputs": [
        {
          "output_type": "execute_result",
          "data": {
            "text/plain": [
              "RandomForestClassifier(criterion='entropy', n_estimators=10)"
            ]
          },
          "metadata": {},
          "execution_count": 14
        }
      ]
    },
    {
      "cell_type": "code",
      "source": [
        "Y_pre = classifier.predict(X_test)\n",
        "print(Y_pre.shape)"
      ],
      "metadata": {
        "colab": {
          "base_uri": "https://localhost:8080/"
        },
        "id": "_h5xkuxw9tLc",
        "outputId": "35265b09-1389-4ac4-d1a8-dcf766176f2b"
      },
      "execution_count": 16,
      "outputs": [
        {
          "output_type": "stream",
          "name": "stdout",
          "text": [
            "(63959,)\n"
          ]
        }
      ]
    },
    {
      "cell_type": "code",
      "source": [
        "m,=Y_pre.shape\n",
        "z =0\n",
        "arr = y_test.to_numpy()\n",
        "for i in range(m):\n",
        "  l=0\n",
        "  if(Y_pre[i]>=0.5):\n",
        "    l=1\n",
        "  if(l==arr[i]):\n",
        "    z+=1\n",
        "# ytens= tf.make_ndarray(\n",
        "#     Y_test\n",
        "# )\n",
        "\n",
        "\n",
        "\n",
        "z = z/m\n",
        "z = z*100\n",
        "print(z)"
      ],
      "metadata": {
        "colab": {
          "base_uri": "https://localhost:8080/"
        },
        "id": "rreG6wIjAJPK",
        "outputId": "02002a7e-4f20-4394-fc7c-e0cd2aa0bcb1"
      },
      "execution_count": 18,
      "outputs": [
        {
          "output_type": "stream",
          "name": "stdout",
          "text": [
            "90.52205319032505\n"
          ]
        }
      ]
    },
    {
      "cell_type": "code",
      "source": [
        "import tensorflow as tf \n",
        "tf.random.set_seed(3)\n",
        "from tensorflow import keras"
      ],
      "metadata": {
        "id": "8wpChLNOAome"
      },
      "execution_count": 20,
      "outputs": []
    },
    {
      "cell_type": "code",
      "source": [
        "model = keras.Sequential([\n",
        "                          # keras.layers.Flatten(input_shape=(30,)),\n",
        "                          keras.layers.Dense(40, activation='relu'),\n",
        "                          keras.layers.Dense(20, activation='relu'),\n",
        "                          keras.layers.Dense(1 ,activation='sigmoid'),\n",
        "])"
      ],
      "metadata": {
        "id": "PdpP-gyWAhUW"
      },
      "execution_count": 21,
      "outputs": []
    },
    {
      "cell_type": "code",
      "source": [
        "model.compile(optimizer='adam',\n",
        "              loss='binary_crossentropy',\n",
        "              metrics=['accuracy'])"
      ],
      "metadata": {
        "id": "guICkmTCAi3W"
      },
      "execution_count": 22,
      "outputs": []
    },
    {
      "cell_type": "code",
      "source": [
        "history = model.fit(X_train, y_train, validation_split=0.1, epochs=20)"
      ],
      "metadata": {
        "colab": {
          "base_uri": "https://localhost:8080/"
        },
        "id": "ZypladNIAy0h",
        "outputId": "c08a7565-cccb-4729-b11f-77c0f4b16640"
      },
      "execution_count": 23,
      "outputs": [
        {
          "output_type": "stream",
          "name": "stdout",
          "text": [
            "Epoch 1/20\n",
            "7196/7196 [==============================] - 17s 2ms/step - loss: 0.2314 - accuracy: 0.9148 - val_loss: 0.2284 - val_accuracy: 0.9143\n",
            "Epoch 2/20\n",
            "7196/7196 [==============================] - 14s 2ms/step - loss: 0.2262 - accuracy: 0.9161 - val_loss: 0.2255 - val_accuracy: 0.9156\n",
            "Epoch 3/20\n",
            "7196/7196 [==============================] - 15s 2ms/step - loss: 0.2253 - accuracy: 0.9160 - val_loss: 0.2258 - val_accuracy: 0.9157\n",
            "Epoch 4/20\n",
            "7196/7196 [==============================] - 15s 2ms/step - loss: 0.2249 - accuracy: 0.9165 - val_loss: 0.2266 - val_accuracy: 0.9156\n",
            "Epoch 5/20\n",
            "7196/7196 [==============================] - 15s 2ms/step - loss: 0.2245 - accuracy: 0.9166 - val_loss: 0.2261 - val_accuracy: 0.9146\n",
            "Epoch 6/20\n",
            "7196/7196 [==============================] - 15s 2ms/step - loss: 0.2242 - accuracy: 0.9164 - val_loss: 0.2263 - val_accuracy: 0.9156\n",
            "Epoch 7/20\n",
            "7196/7196 [==============================] - 15s 2ms/step - loss: 0.2239 - accuracy: 0.9167 - val_loss: 0.2261 - val_accuracy: 0.9154\n",
            "Epoch 8/20\n",
            "7196/7196 [==============================] - 15s 2ms/step - loss: 0.2236 - accuracy: 0.9165 - val_loss: 0.2267 - val_accuracy: 0.9148\n",
            "Epoch 9/20\n",
            "7196/7196 [==============================] - 14s 2ms/step - loss: 0.2234 - accuracy: 0.9166 - val_loss: 0.2266 - val_accuracy: 0.9152\n",
            "Epoch 10/20\n",
            "7196/7196 [==============================] - 15s 2ms/step - loss: 0.2232 - accuracy: 0.9165 - val_loss: 0.2261 - val_accuracy: 0.9152\n",
            "Epoch 11/20\n",
            "7196/7196 [==============================] - 15s 2ms/step - loss: 0.2229 - accuracy: 0.9170 - val_loss: 0.2271 - val_accuracy: 0.9141\n",
            "Epoch 12/20\n",
            "7196/7196 [==============================] - 15s 2ms/step - loss: 0.2227 - accuracy: 0.9169 - val_loss: 0.2269 - val_accuracy: 0.9147\n",
            "Epoch 13/20\n",
            "7196/7196 [==============================] - 15s 2ms/step - loss: 0.2224 - accuracy: 0.9169 - val_loss: 0.2269 - val_accuracy: 0.9144\n",
            "Epoch 14/20\n",
            "7196/7196 [==============================] - 14s 2ms/step - loss: 0.2221 - accuracy: 0.9173 - val_loss: 0.2263 - val_accuracy: 0.9151\n",
            "Epoch 15/20\n",
            "7196/7196 [==============================] - 14s 2ms/step - loss: 0.2219 - accuracy: 0.9170 - val_loss: 0.2276 - val_accuracy: 0.9148\n",
            "Epoch 16/20\n",
            "7196/7196 [==============================] - 15s 2ms/step - loss: 0.2217 - accuracy: 0.9173 - val_loss: 0.2269 - val_accuracy: 0.9151\n",
            "Epoch 17/20\n",
            "7196/7196 [==============================] - 14s 2ms/step - loss: 0.2215 - accuracy: 0.9173 - val_loss: 0.2273 - val_accuracy: 0.9144\n",
            "Epoch 18/20\n",
            "7196/7196 [==============================] - 15s 2ms/step - loss: 0.2213 - accuracy: 0.9173 - val_loss: 0.2278 - val_accuracy: 0.9139\n",
            "Epoch 19/20\n",
            "7196/7196 [==============================] - 15s 2ms/step - loss: 0.2211 - accuracy: 0.9174 - val_loss: 0.2282 - val_accuracy: 0.9141\n",
            "Epoch 20/20\n",
            "7196/7196 [==============================] - 14s 2ms/step - loss: 0.2211 - accuracy: 0.9173 - val_loss: 0.2271 - val_accuracy: 0.9140\n"
          ]
        }
      ]
    },
    {
      "cell_type": "code",
      "source": [
        "loss, accuracy = model.evaluate(X_test, y_test)\n",
        "print(accuracy)"
      ],
      "metadata": {
        "colab": {
          "base_uri": "https://localhost:8080/"
        },
        "id": "Pq3cf30cBEHB",
        "outputId": "7d9cdbbd-7df5-481f-b65e-87a89d7d2ccc"
      },
      "execution_count": 25,
      "outputs": [
        {
          "output_type": "stream",
          "name": "stdout",
          "text": [
            "1999/1999 [==============================] - 3s 1ms/step - loss: 0.2270 - accuracy: 0.9151\n",
            "0.9150862097740173\n"
          ]
        }
      ]
    },
    {
      "cell_type": "code",
      "source": [],
      "metadata": {
        "id": "vPLiSGQTCf9X"
      },
      "execution_count": null,
      "outputs": []
    }
  ]
}